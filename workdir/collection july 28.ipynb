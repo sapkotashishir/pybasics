{
 "cells": [
  {
   "cell_type": "markdown",
   "metadata": {},
   "source": [
    "## Collections and for loop \n"
   ]
  },
  {
   "cell_type": "code",
   "execution_count": 5,
   "metadata": {
    "collapsed": true
   },
   "outputs": [],
   "source": [
    "paragraph = \"\"\"\n",
    "I had seen little of Holmes lately. My marriage had drifted us\n",
    "away from each other. My own complete happiness, and the\n",
    "home-centred interests which rise up around the man who first\n",
    "finds himself master of his own establishment, were sufficient to\n",
    "absorb all my attention, while Holmes, who loathed every form of\n",
    "society with his whole Bohemian soul, remained in our lodgings in\n",
    "Baker Street, buried among his old books, and alternating from\n",
    "week to week between cocaine and ambition, the drowsiness of the\n",
    "drug, and the fierce energy of his own keen nature. He was still,\n",
    "as ever, deeply attracted by the study of crime, and occupied his\n",
    "immense faculties and extraordinary powers of observation in\n",
    "following out those clues, and clearing up those mysteries which\n",
    "had been abandoned as hopeless by the official police. From time\n",
    "to time I heard some vague account of his doings: of his summons\n",
    "to Odessa in the case of the Trepoff murder, of his clearing up\n",
    "of the singular tragedy of the Atkinson brothers at Trincomalee,\n",
    "and finally of the mission which he had accomplished so\n",
    "delicately and successfully for the reigning family of Holland.\n",
    "Beyond these signs of his activity, however, which I merely\n",
    "shared with all the readers of the daily press, I knew little of\n",
    "my former friend and companion.\n",
    "\"\"\""
   ]
  },
  {
   "cell_type": "markdown",
   "metadata": {},
   "source": [
    "### Calculate word freqency "
   ]
  },
  {
   "cell_type": "code",
   "execution_count": 6,
   "metadata": {},
   "outputs": [
    {
     "data": {
      "text/plain": [
       "['I',\n",
       " 'had',\n",
       " 'seen',\n",
       " 'little',\n",
       " 'of',\n",
       " 'Holmes',\n",
       " 'lately.',\n",
       " 'My',\n",
       " 'marriage',\n",
       " 'had',\n",
       " 'drifted',\n",
       " 'us',\n",
       " 'away',\n",
       " 'from',\n",
       " 'each',\n",
       " 'other.',\n",
       " 'My',\n",
       " 'own',\n",
       " 'complete',\n",
       " 'happiness,',\n",
       " 'and',\n",
       " 'the',\n",
       " 'home-centred',\n",
       " 'interests',\n",
       " 'which',\n",
       " 'rise',\n",
       " 'up',\n",
       " 'around',\n",
       " 'the',\n",
       " 'man',\n",
       " 'who',\n",
       " 'first',\n",
       " 'finds',\n",
       " 'himself',\n",
       " 'master',\n",
       " 'of',\n",
       " 'his',\n",
       " 'own',\n",
       " 'establishment,',\n",
       " 'were',\n",
       " 'sufficient',\n",
       " 'to',\n",
       " 'absorb',\n",
       " 'all',\n",
       " 'my',\n",
       " 'attention,',\n",
       " 'while',\n",
       " 'Holmes,',\n",
       " 'who',\n",
       " 'loathed',\n",
       " 'every',\n",
       " 'form',\n",
       " 'of',\n",
       " 'society',\n",
       " 'with',\n",
       " 'his',\n",
       " 'whole',\n",
       " 'Bohemian',\n",
       " 'soul,',\n",
       " 'remained',\n",
       " 'in',\n",
       " 'our',\n",
       " 'lodgings',\n",
       " 'in',\n",
       " 'Baker',\n",
       " 'Street,',\n",
       " 'buried',\n",
       " 'among',\n",
       " 'his',\n",
       " 'old',\n",
       " 'books,',\n",
       " 'and',\n",
       " 'alternating',\n",
       " 'from',\n",
       " 'week',\n",
       " 'to',\n",
       " 'week',\n",
       " 'between',\n",
       " 'cocaine',\n",
       " 'and',\n",
       " 'ambition,',\n",
       " 'the',\n",
       " 'drowsiness',\n",
       " 'of',\n",
       " 'the',\n",
       " 'drug,',\n",
       " 'and',\n",
       " 'the',\n",
       " 'fierce',\n",
       " 'energy',\n",
       " 'of',\n",
       " 'his',\n",
       " 'own',\n",
       " 'keen',\n",
       " 'nature.',\n",
       " 'He',\n",
       " 'was',\n",
       " 'still,',\n",
       " 'as',\n",
       " 'ever,',\n",
       " 'deeply',\n",
       " 'attracted',\n",
       " 'by',\n",
       " 'the',\n",
       " 'study',\n",
       " 'of',\n",
       " 'crime,',\n",
       " 'and',\n",
       " 'occupied',\n",
       " 'his',\n",
       " 'immense',\n",
       " 'faculties',\n",
       " 'and',\n",
       " 'extraordinary',\n",
       " 'powers',\n",
       " 'of',\n",
       " 'observation',\n",
       " 'in',\n",
       " 'following',\n",
       " 'out',\n",
       " 'those',\n",
       " 'clues,',\n",
       " 'and',\n",
       " 'clearing',\n",
       " 'up',\n",
       " 'those',\n",
       " 'mysteries',\n",
       " 'which',\n",
       " 'had',\n",
       " 'been',\n",
       " 'abandoned',\n",
       " 'as',\n",
       " 'hopeless',\n",
       " 'by',\n",
       " 'the',\n",
       " 'official',\n",
       " 'police.',\n",
       " 'From',\n",
       " 'time',\n",
       " 'to',\n",
       " 'time',\n",
       " 'I',\n",
       " 'heard',\n",
       " 'some',\n",
       " 'vague',\n",
       " 'account',\n",
       " 'of',\n",
       " 'his',\n",
       " 'doings:',\n",
       " 'of',\n",
       " 'his',\n",
       " 'summons',\n",
       " 'to',\n",
       " 'Odessa',\n",
       " 'in',\n",
       " 'the',\n",
       " 'case',\n",
       " 'of',\n",
       " 'the',\n",
       " 'Trepoff',\n",
       " 'murder,',\n",
       " 'of',\n",
       " 'his',\n",
       " 'clearing',\n",
       " 'up',\n",
       " 'of',\n",
       " 'the',\n",
       " 'singular',\n",
       " 'tragedy',\n",
       " 'of',\n",
       " 'the',\n",
       " 'Atkinson',\n",
       " 'brothers',\n",
       " 'at',\n",
       " 'Trincomalee,',\n",
       " 'and',\n",
       " 'finally',\n",
       " 'of',\n",
       " 'the',\n",
       " 'mission',\n",
       " 'which',\n",
       " 'he',\n",
       " 'had',\n",
       " 'accomplished',\n",
       " 'so',\n",
       " 'delicately',\n",
       " 'and',\n",
       " 'successfully',\n",
       " 'for',\n",
       " 'the',\n",
       " 'reigning',\n",
       " 'family',\n",
       " 'of',\n",
       " 'Holland.',\n",
       " 'Beyond',\n",
       " 'these',\n",
       " 'signs',\n",
       " 'of',\n",
       " 'his',\n",
       " 'activity,',\n",
       " 'however,',\n",
       " 'which',\n",
       " 'I',\n",
       " 'merely',\n",
       " 'shared',\n",
       " 'with',\n",
       " 'all',\n",
       " 'the',\n",
       " 'readers',\n",
       " 'of',\n",
       " 'the',\n",
       " 'daily',\n",
       " 'press,',\n",
       " 'I',\n",
       " 'knew',\n",
       " 'little',\n",
       " 'of',\n",
       " 'my',\n",
       " 'former',\n",
       " 'friend',\n",
       " 'and',\n",
       " 'companion.']"
      ]
     },
     "execution_count": 6,
     "metadata": {},
     "output_type": "execute_result"
    }
   ],
   "source": [
    "paragraph.split()"
   ]
  },
  {
   "cell_type": "markdown",
   "metadata": {},
   "source": [
    "### Continue with problems "
   ]
  },
  {
   "cell_type": "markdown",
   "metadata": {},
   "source": [
    "* Select each word* "
   ]
  },
  {
   "cell_type": "code",
   "execution_count": 6,
   "metadata": {},
   "outputs": [
    {
     "name": "stdout",
     "output_type": "stream",
     "text": [
      "I\n"
     ]
    }
   ],
   "source": [
    "for word in paragraph.split():\n",
    "    print (word)\n",
    "    break "
   ]
  },
  {
   "cell_type": "markdown",
   "metadata": {},
   "source": [
    "-* How do we check the word the*-"
   ]
  },
  {
   "cell_type": "code",
   "execution_count": 7,
   "metadata": {
    "collapsed": true
   },
   "outputs": [],
   "source": [
    "words= paragraph.split()\n"
   ]
  },
  {
   "cell_type": "code",
   "execution_count": 15,
   "metadata": {},
   "outputs": [
    {
     "name": "stdout",
     "output_type": "stream",
     "text": [
      "the number of the is: 15\n"
     ]
    }
   ],
   "source": [
    "count =0\n",
    "for word in words : \n",
    "    word= word.strip(',')\n",
    "    word = word.strip('.')\n",
    "    if word.lower() == 'the':\n",
    "        count= count+1 \n",
    "print('the number of the is:',count)"
   ]
  },
  {
   "cell_type": "code",
   "execution_count": 16,
   "metadata": {},
   "outputs": [
    {
     "data": {
      "text/plain": [
       "['I',\n",
       " 'had',\n",
       " 'seen',\n",
       " 'little',\n",
       " 'of',\n",
       " 'Holmes',\n",
       " 'lately.',\n",
       " 'My',\n",
       " 'marriage',\n",
       " 'had',\n",
       " 'drifted',\n",
       " 'us',\n",
       " 'away',\n",
       " 'from',\n",
       " 'each',\n",
       " 'other.',\n",
       " 'My',\n",
       " 'own',\n",
       " 'complete',\n",
       " 'happiness,',\n",
       " 'and',\n",
       " 'the',\n",
       " 'home-centred',\n",
       " 'interests',\n",
       " 'which',\n",
       " 'rise',\n",
       " 'up',\n",
       " 'around',\n",
       " 'the',\n",
       " 'man',\n",
       " 'who',\n",
       " 'first',\n",
       " 'finds',\n",
       " 'himself',\n",
       " 'master',\n",
       " 'of',\n",
       " 'his',\n",
       " 'own',\n",
       " 'establishment,',\n",
       " 'were',\n",
       " 'sufficient',\n",
       " 'to',\n",
       " 'absorb',\n",
       " 'all',\n",
       " 'my',\n",
       " 'attention,',\n",
       " 'while',\n",
       " 'Holmes,',\n",
       " 'who',\n",
       " 'loathed',\n",
       " 'every',\n",
       " 'form',\n",
       " 'of',\n",
       " 'society',\n",
       " 'with',\n",
       " 'his',\n",
       " 'whole',\n",
       " 'Bohemian',\n",
       " 'soul,',\n",
       " 'remained',\n",
       " 'in',\n",
       " 'our',\n",
       " 'lodgings',\n",
       " 'in',\n",
       " 'Baker',\n",
       " 'Street,',\n",
       " 'buried',\n",
       " 'among',\n",
       " 'his',\n",
       " 'old',\n",
       " 'books,',\n",
       " 'and',\n",
       " 'alternating',\n",
       " 'from',\n",
       " 'week',\n",
       " 'to',\n",
       " 'week',\n",
       " 'between',\n",
       " 'cocaine',\n",
       " 'and',\n",
       " 'ambition,',\n",
       " 'the',\n",
       " 'drowsiness',\n",
       " 'of',\n",
       " 'the',\n",
       " 'drug,',\n",
       " 'and',\n",
       " 'the',\n",
       " 'fierce',\n",
       " 'energy',\n",
       " 'of',\n",
       " 'his',\n",
       " 'own',\n",
       " 'keen',\n",
       " 'nature.',\n",
       " 'He',\n",
       " 'was',\n",
       " 'still,',\n",
       " 'as',\n",
       " 'ever,',\n",
       " 'deeply',\n",
       " 'attracted',\n",
       " 'by',\n",
       " 'the',\n",
       " 'study',\n",
       " 'of',\n",
       " 'crime,',\n",
       " 'and',\n",
       " 'occupied',\n",
       " 'his',\n",
       " 'immense',\n",
       " 'faculties',\n",
       " 'and',\n",
       " 'extraordinary',\n",
       " 'powers',\n",
       " 'of',\n",
       " 'observation',\n",
       " 'in',\n",
       " 'following',\n",
       " 'out',\n",
       " 'those',\n",
       " 'clues,',\n",
       " 'and',\n",
       " 'clearing',\n",
       " 'up',\n",
       " 'those',\n",
       " 'mysteries',\n",
       " 'which',\n",
       " 'had',\n",
       " 'been',\n",
       " 'abandoned',\n",
       " 'as',\n",
       " 'hopeless',\n",
       " 'by',\n",
       " 'the',\n",
       " 'official',\n",
       " 'police.',\n",
       " 'From',\n",
       " 'time',\n",
       " 'to',\n",
       " 'time',\n",
       " 'I',\n",
       " 'heard',\n",
       " 'some',\n",
       " 'vague',\n",
       " 'account',\n",
       " 'of',\n",
       " 'his',\n",
       " 'doings:',\n",
       " 'of',\n",
       " 'his',\n",
       " 'summons',\n",
       " 'to',\n",
       " 'Odessa',\n",
       " 'in',\n",
       " 'the',\n",
       " 'case',\n",
       " 'of',\n",
       " 'the',\n",
       " 'Trepoff',\n",
       " 'murder,',\n",
       " 'of',\n",
       " 'his',\n",
       " 'clearing',\n",
       " 'up',\n",
       " 'of',\n",
       " 'the',\n",
       " 'singular',\n",
       " 'tragedy',\n",
       " 'of',\n",
       " 'the',\n",
       " 'Atkinson',\n",
       " 'brothers',\n",
       " 'at',\n",
       " 'Trincomalee,',\n",
       " 'and',\n",
       " 'finally',\n",
       " 'of',\n",
       " 'the',\n",
       " 'mission',\n",
       " 'which',\n",
       " 'he',\n",
       " 'had',\n",
       " 'accomplished',\n",
       " 'so',\n",
       " 'delicately',\n",
       " 'and',\n",
       " 'successfully',\n",
       " 'for',\n",
       " 'the',\n",
       " 'reigning',\n",
       " 'family',\n",
       " 'of',\n",
       " 'Holland.',\n",
       " 'Beyond',\n",
       " 'these',\n",
       " 'signs',\n",
       " 'of',\n",
       " 'his',\n",
       " 'activity,',\n",
       " 'however,',\n",
       " 'which',\n",
       " 'I',\n",
       " 'merely',\n",
       " 'shared',\n",
       " 'with',\n",
       " 'all',\n",
       " 'the',\n",
       " 'readers',\n",
       " 'of',\n",
       " 'the',\n",
       " 'daily',\n",
       " 'press,',\n",
       " 'I',\n",
       " 'knew',\n",
       " 'little',\n",
       " 'of',\n",
       " 'my',\n",
       " 'former',\n",
       " 'friend',\n",
       " 'and',\n",
       " 'companion.']"
      ]
     },
     "execution_count": 16,
     "metadata": {},
     "output_type": "execute_result"
    }
   ],
   "source": [
    "words"
   ]
  },
  {
   "cell_type": "code",
   "execution_count": 17,
   "metadata": {},
   "outputs": [
    {
     "data": {
      "text/plain": [
       "'companion'"
      ]
     },
     "execution_count": 17,
     "metadata": {},
     "output_type": "execute_result"
    }
   ],
   "source": [
    "'companion.'.strip('.')"
   ]
  },
  {
   "cell_type": "markdown",
   "metadata": {},
   "source": [
    "rstrip and lstrip left and right "
   ]
  },
  {
   "cell_type": "code",
   "execution_count": 20,
   "metadata": {
    "collapsed": true
   },
   "outputs": [],
   "source": [
    "info_dct={\n",
    "    'name':'Jim',\n",
    "'age': 28 ,\n",
    "'weight':78.5,}\n"
   ]
  },
  {
   "cell_type": "code",
   "execution_count": 21,
   "metadata": {
    "collapsed": true
   },
   "outputs": [],
   "source": [
    "info_dct['age']=30"
   ]
  },
  {
   "cell_type": "code",
   "execution_count": 22,
   "metadata": {},
   "outputs": [
    {
     "data": {
      "text/plain": [
       "{'age': 30, 'name': 'Jim', 'weight': 78.5}"
      ]
     },
     "execution_count": 22,
     "metadata": {},
     "output_type": "execute_result"
    }
   ],
   "source": [
    "info_dct "
   ]
  },
  {
   "cell_type": "markdown",
   "metadata": {},
   "source": [
    "## Use of dictionary "
   ]
  },
  {
   "cell_type": "code",
   "execution_count": 25,
   "metadata": {},
   "outputs": [
    {
     "name": "stdout",
     "output_type": "stream",
     "text": [
      "the number of the is: {'a': 0, 'the': 15, 'of': 18}\n"
     ]
    }
   ],
   "source": [
    "counter ={'a':0,'the':0,'of':0}\n",
    "for word in words : \n",
    "    word= word.strip(',')\n",
    "    word = word.strip('.')\n",
    "    if word.lower() == 'the':\n",
    "        counter['the']+=1 \n",
    "    if word.lower() == 'a':\n",
    "        counter['a']+=1 \n",
    "    if word.lower() == 'of':\n",
    "        counter['of']+=1     \n",
    "print('the number of the is:',counter)"
   ]
  },
  {
   "cell_type": "markdown",
   "metadata": {},
   "source": [
    "## Find unique words from the given wordlist "
   ]
  },
  {
   "cell_type": "code",
   "execution_count": 26,
   "metadata": {
    "collapsed": true
   },
   "outputs": [],
   "source": [
    "unique_words = []"
   ]
  },
  {
   "cell_type": "code",
   "execution_count": 28,
   "metadata": {
    "collapsed": true
   },
   "outputs": [],
   "source": [
    "for word in paragraph.lower().split():\n",
    "    pass"
   ]
  },
  {
   "cell_type": "code",
   "execution_count": 30,
   "metadata": {
    "collapsed": true
   },
   "outputs": [],
   "source": [
    "names = ['rob','Bob','Robin']\n"
   ]
  },
  {
   "cell_type": "code",
   "execution_count": 31,
   "metadata": {},
   "outputs": [
    {
     "data": {
      "text/plain": [
       "['rob', 'Bob', 'Robin']"
      ]
     },
     "execution_count": 31,
     "metadata": {},
     "output_type": "execute_result"
    }
   ],
   "source": [
    "names "
   ]
  },
  {
   "cell_type": "code",
   "execution_count": 32,
   "metadata": {},
   "outputs": [
    {
     "ename": "NameError",
     "evalue": "name 'unique_words' is not defined",
     "output_type": "error",
     "traceback": [
      "\u001b[1;31m---------------------------------------------------------------------------\u001b[0m",
      "\u001b[1;31mNameError\u001b[0m                                 Traceback (most recent call last)",
      "\u001b[1;32m<ipython-input-32-fa414d74de04>\u001b[0m in \u001b[0;36m<module>\u001b[1;34m()\u001b[0m\n\u001b[1;32m----> 1\u001b[1;33m \u001b[1;34m'the'\u001b[0m \u001b[1;32min\u001b[0m \u001b[0munique_words\u001b[0m\u001b[1;33m\u001b[0m\u001b[0m\n\u001b[0m",
      "\u001b[1;31mNameError\u001b[0m: name 'unique_words' is not defined"
     ]
    }
   ],
   "source": [
    "'the' in unique_words"
   ]
  },
  {
   "cell_type": "code",
   "execution_count": 4,
   "metadata": {},
   "outputs": [
    {
     "ename": "NameError",
     "evalue": "name 'paragraph' is not defined",
     "output_type": "error",
     "traceback": [
      "\u001b[1;31m---------------------------------------------------------------------------\u001b[0m",
      "\u001b[1;31mNameError\u001b[0m                                 Traceback (most recent call last)",
      "\u001b[1;32m<ipython-input-4-ed5ff25341db>\u001b[0m in \u001b[0;36m<module>\u001b[1;34m()\u001b[0m\n\u001b[0;32m      1\u001b[0m \u001b[0munique_words\u001b[0m\u001b[1;33m=\u001b[0m\u001b[1;33m[\u001b[0m\u001b[1;33m]\u001b[0m\u001b[1;33m\u001b[0m\u001b[0m\n\u001b[1;32m----> 2\u001b[1;33m \u001b[1;32mfor\u001b[0m \u001b[0mword\u001b[0m \u001b[1;32min\u001b[0m \u001b[0mparagraph\u001b[0m\u001b[1;33m.\u001b[0m\u001b[0mlower\u001b[0m\u001b[1;33m(\u001b[0m\u001b[1;33m)\u001b[0m\u001b[1;33m.\u001b[0m\u001b[0msplit\u001b[0m\u001b[1;33m(\u001b[0m\u001b[1;33m)\u001b[0m\u001b[1;33m:\u001b[0m\u001b[1;33m\u001b[0m\u001b[0m\n\u001b[0m\u001b[0;32m      3\u001b[0m     \u001b[1;32mif\u001b[0m \u001b[0mword\u001b[0m \u001b[1;32mnot\u001b[0m \u001b[1;32min\u001b[0m \u001b[0munique_words\u001b[0m\u001b[1;33m:\u001b[0m\u001b[1;33m\u001b[0m\u001b[0m\n\u001b[0;32m      4\u001b[0m         \u001b[0munique_words\u001b[0m\u001b[1;33m.\u001b[0m\u001b[0mappend\u001b[0m\u001b[1;33m(\u001b[0m\u001b[0mword\u001b[0m\u001b[1;33m)\u001b[0m\u001b[1;33m\u001b[0m\u001b[0m\n",
      "\u001b[1;31mNameError\u001b[0m: name 'paragraph' is not defined"
     ]
    }
   ],
   "source": [
    "unique_words=[]\n",
    "for word in paragraph.lower().split():\n",
    "    if word not in unique_words: \n",
    "        unique_words.append(word) "
   ]
  },
  {
   "cell_type": "code",
   "execution_count": 37,
   "metadata": {},
   "outputs": [
    {
     "data": {
      "text/plain": [
       "['i',\n",
       " 'had',\n",
       " 'seen',\n",
       " 'little',\n",
       " 'of',\n",
       " 'holmes',\n",
       " 'lately.',\n",
       " 'my',\n",
       " 'marriage',\n",
       " 'drifted',\n",
       " 'us',\n",
       " 'away',\n",
       " 'from',\n",
       " 'each',\n",
       " 'other.',\n",
       " 'own',\n",
       " 'complete',\n",
       " 'happiness,',\n",
       " 'and',\n",
       " 'the',\n",
       " 'home-centred',\n",
       " 'interests',\n",
       " 'which',\n",
       " 'rise',\n",
       " 'up',\n",
       " 'around',\n",
       " 'man',\n",
       " 'who',\n",
       " 'first',\n",
       " 'finds',\n",
       " 'himself',\n",
       " 'master',\n",
       " 'his',\n",
       " 'establishment,',\n",
       " 'were',\n",
       " 'sufficient',\n",
       " 'to',\n",
       " 'absorb',\n",
       " 'all',\n",
       " 'attention,',\n",
       " 'while',\n",
       " 'holmes,',\n",
       " 'loathed',\n",
       " 'every',\n",
       " 'form',\n",
       " 'society',\n",
       " 'with',\n",
       " 'whole',\n",
       " 'bohemian',\n",
       " 'soul,',\n",
       " 'remained',\n",
       " 'in',\n",
       " 'our',\n",
       " 'lodgings',\n",
       " 'baker',\n",
       " 'street,',\n",
       " 'buried',\n",
       " 'among',\n",
       " 'old',\n",
       " 'books,',\n",
       " 'alternating',\n",
       " 'week',\n",
       " 'between',\n",
       " 'cocaine',\n",
       " 'ambition,',\n",
       " 'drowsiness',\n",
       " 'drug,',\n",
       " 'fierce',\n",
       " 'energy',\n",
       " 'keen',\n",
       " 'nature.',\n",
       " 'he',\n",
       " 'was',\n",
       " 'still,',\n",
       " 'as',\n",
       " 'ever,',\n",
       " 'deeply',\n",
       " 'attracted',\n",
       " 'by',\n",
       " 'study',\n",
       " 'crime,',\n",
       " 'occupied',\n",
       " 'immense',\n",
       " 'faculties',\n",
       " 'extraordinary',\n",
       " 'powers',\n",
       " 'observation',\n",
       " 'following',\n",
       " 'out',\n",
       " 'those',\n",
       " 'clues,',\n",
       " 'clearing',\n",
       " 'mysteries',\n",
       " 'been',\n",
       " 'abandoned',\n",
       " 'hopeless',\n",
       " 'official',\n",
       " 'police.',\n",
       " 'time',\n",
       " 'heard',\n",
       " 'some',\n",
       " 'vague',\n",
       " 'account',\n",
       " 'doings:',\n",
       " 'summons',\n",
       " 'odessa',\n",
       " 'case',\n",
       " 'trepoff',\n",
       " 'murder,',\n",
       " 'singular',\n",
       " 'tragedy',\n",
       " 'atkinson',\n",
       " 'brothers',\n",
       " 'at',\n",
       " 'trincomalee,',\n",
       " 'finally',\n",
       " 'mission',\n",
       " 'accomplished',\n",
       " 'so',\n",
       " 'delicately',\n",
       " 'successfully',\n",
       " 'for',\n",
       " 'reigning',\n",
       " 'family',\n",
       " 'holland.',\n",
       " 'beyond',\n",
       " 'these',\n",
       " 'signs',\n",
       " 'activity,',\n",
       " 'however,',\n",
       " 'merely',\n",
       " 'shared',\n",
       " 'readers',\n",
       " 'daily',\n",
       " 'press,',\n",
       " 'knew',\n",
       " 'former',\n",
       " 'friend',\n",
       " 'companion.']"
      ]
     },
     "execution_count": 37,
     "metadata": {},
     "output_type": "execute_result"
    }
   ],
   "source": [
    "unique_words"
   ]
  },
  {
   "cell_type": "code",
   "execution_count": 42,
   "metadata": {},
   "outputs": [
    {
     "name": "stdout",
     "output_type": "stream",
     "text": [
      "['i', 'had', 'seen', 'little', 'of', 'holmes', 'lately', 'my', 'marriage', 'drifted', 'us', 'away', 'from', 'each', 'other', 'own', 'complete', 'happiness', 'and', 'the', 'home-centred', 'interests', 'which', 'rise', 'up', 'around', 'man', 'who', 'first', 'finds', 'himself', 'master', 'his', 'establishment', 'were', 'sufficient', 'to', 'absorb', 'all', 'attention', 'while', 'loathed', 'every', 'form', 'society', 'with', 'whole', 'bohemian', 'soul', 'remained', 'in', 'our', 'lodgings', 'baker', 'street', 'buried', 'among', 'old', 'books', 'alternating', 'week', 'between', 'cocaine', 'ambition', 'drowsiness', 'drug', 'fierce', 'energy', 'keen', 'nature', 'he', 'was', 'still', 'as', 'ever', 'deeply', 'attracted', 'by', 'study', 'crime', 'occupied', 'immense', 'faculties', 'extraordinary', 'powers', 'observation', 'following', 'out', 'those', 'clues', 'clearing', 'mysteries', 'been', 'abandoned', 'hopeless', 'official', 'police', 'time', 'heard', 'some', 'vague', 'account', 'doings:', 'summons', 'odessa', 'case', 'trepoff', 'murder', 'singular', 'tragedy', 'atkinson', 'brothers', 'at', 'trincomalee', 'finally', 'mission', 'accomplished', 'so', 'delicately', 'successfully', 'for', 'reigning', 'family', 'holland', 'beyond', 'these', 'signs', 'activity', 'however', 'merely', 'shared', 'readers', 'daily', 'press', 'knew', 'former', 'friend', 'companion']\n"
     ]
    }
   ],
   "source": [
    "unique_words=[]\n",
    "for word in paragraph.lower().split():\n",
    "    word=word.strip('.')\n",
    "    word= word.strip(',')\n",
    "    \n",
    "    if word not in unique_words: \n",
    "        unique_words.append(word) \n",
    "print(unique_words)"
   ]
  },
  {
   "cell_type": "code",
   "execution_count": 3,
   "metadata": {},
   "outputs": [
    {
     "ename": "NameError",
     "evalue": "name 'paragraph' is not defined",
     "output_type": "error",
     "traceback": [
      "\u001b[1;31m---------------------------------------------------------------------------\u001b[0m",
      "\u001b[1;31mNameError\u001b[0m                                 Traceback (most recent call last)",
      "\u001b[1;32m<ipython-input-3-173da53e0dfc>\u001b[0m in \u001b[0;36m<module>\u001b[1;34m()\u001b[0m\n\u001b[1;32m----> 1\u001b[1;33m \u001b[0munique_words\u001b[0m \u001b[1;33m=\u001b[0m \u001b[0mset\u001b[0m\u001b[1;33m(\u001b[0m\u001b[0mparagraph\u001b[0m\u001b[1;33m.\u001b[0m\u001b[0mlower\u001b[0m\u001b[1;33m(\u001b[0m\u001b[1;33m)\u001b[0m\u001b[1;33m.\u001b[0m\u001b[0msplit\u001b[0m\u001b[1;33m(\u001b[0m\u001b[1;33m)\u001b[0m\u001b[1;33m)\u001b[0m\u001b[1;33m\u001b[0m\u001b[0m\n\u001b[0m",
      "\u001b[1;31mNameError\u001b[0m: name 'paragraph' is not defined"
     ]
    }
   ],
   "source": [
    "unique_words = set(paragraph.lower().split())"
   ]
  },
  {
   "cell_type": "code",
   "execution_count": 44,
   "metadata": {},
   "outputs": [
    {
     "data": {
      "text/plain": [
       "139"
      ]
     },
     "execution_count": 44,
     "metadata": {},
     "output_type": "execute_result"
    }
   ],
   "source": [
    "len(unique_words)"
   ]
  },
  {
   "cell_type": "code",
   "execution_count": 8,
   "metadata": {
    "collapsed": true
   },
   "outputs": [],
   "source": [
    "words= paragraph.split()\n",
    "counter = {}\n",
    "for word in unique_words: \n",
    "    word=word.strip('.')\n",
    "    word= word.strip(',')\n",
    "    counter[word]=0\n",
    "    \n"
   ]
  },
  {
   "cell_type": "code",
   "execution_count": 9,
   "metadata": {},
   "outputs": [
    {
     "ename": "KeyError",
     "evalue": "'i'",
     "output_type": "error",
     "traceback": [
      "\u001b[1;31m---------------------------------------------------------------------------\u001b[0m",
      "\u001b[1;31mKeyError\u001b[0m                                  Traceback (most recent call last)",
      "\u001b[1;32m<ipython-input-9-672b5f21bb9f>\u001b[0m in \u001b[0;36m<module>\u001b[1;34m()\u001b[0m\n\u001b[0;32m      3\u001b[0m     \u001b[0mword\u001b[0m\u001b[1;33m=\u001b[0m \u001b[0mword\u001b[0m\u001b[1;33m.\u001b[0m\u001b[0mstrip\u001b[0m\u001b[1;33m(\u001b[0m\u001b[1;34m','\u001b[0m\u001b[1;33m)\u001b[0m\u001b[1;33m\u001b[0m\u001b[0m\n\u001b[0;32m      4\u001b[0m     \u001b[0mword\u001b[0m\u001b[1;33m=\u001b[0m \u001b[0mword\u001b[0m\u001b[1;33m.\u001b[0m\u001b[0mstrip\u001b[0m\u001b[1;33m(\u001b[0m\u001b[1;34m'.'\u001b[0m\u001b[1;33m)\u001b[0m\u001b[1;33m\u001b[0m\u001b[0m\n\u001b[1;32m----> 5\u001b[1;33m     \u001b[0mcounter\u001b[0m\u001b[1;33m[\u001b[0m\u001b[0mword\u001b[0m\u001b[1;33m]\u001b[0m\u001b[1;33m+=\u001b[0m\u001b[1;36m1\u001b[0m\u001b[1;33m\u001b[0m\u001b[0m\n\u001b[0m\u001b[0;32m      6\u001b[0m \u001b[0mprint\u001b[0m\u001b[1;33m(\u001b[0m\u001b[0mcounter\u001b[0m\u001b[1;33m)\u001b[0m\u001b[1;33m\u001b[0m\u001b[0m\n\u001b[0;32m      7\u001b[0m \u001b[1;33m\u001b[0m\u001b[0m\n",
      "\u001b[1;31mKeyError\u001b[0m: 'i'"
     ]
    }
   ],
   "source": [
    " for word in words : \n",
    "     word= word.lower()\n",
    "     word= word.strip(',')\n",
    "     word= word.strip('.')\n",
    "     counter[word]+=1 \n",
    "print(counter)\n",
    "    \n",
    "    "
   ]
  },
  {
   "cell_type": "markdown",
   "metadata": {},
   "source": []
  },
  {
   "cell_type": "code",
   "execution_count": 1,
   "metadata": {},
   "outputs": [
    {
     "name": "stdout",
     "output_type": "stream",
     "text": [
      "how much for the maple syrup? $20.99? That's ricidulous!!!\n"
     ]
    }
   ],
   "source": [
    "import re\n",
    "\n",
    "strs = \"how much for the maple syrup? $20.99? That's ricidulous!!!\"\n",
    "print (strs)\n"
   ]
  },
  {
   "cell_type": "code",
   "execution_count": 4,
   "metadata": {},
   "outputs": [
    {
     "name": "stdout",
     "output_type": "stream",
     "text": [
      "     ? $.? ' !!!\n"
     ]
    }
   ],
   "source": [
    "string=re.sub(r'[a-zA-Z0-9]',r'',strs) \n",
    "print(string)"
   ]
  },
  {
   "cell_type": "code",
   "execution_count": 10,
   "metadata": {},
   "outputs": [
    {
     "name": "stdout",
     "output_type": "stream",
     "text": [
      "how much for the maple syrup 2099 That's ricidulous\n"
     ]
    }
   ],
   "source": [
    "strs = re.sub(r'[?|$|.|!!!]',r'',strs)#i have taken special character to remove but any #character can be added here\n",
    "print (strs)"
   ]
  },
  {
   "cell_type": "code",
   "execution_count": null,
   "metadata": {
    "collapsed": true
   },
   "outputs": [],
   "source": []
  },
  {
   "cell_type": "code",
   "execution_count": null,
   "metadata": {
    "collapsed": true
   },
   "outputs": [],
   "source": []
  }
 ],
 "metadata": {
  "kernelspec": {
   "display_name": "Python 3",
   "language": "python",
   "name": "python3"
  },
  "language_info": {
   "codemirror_mode": {
    "name": "ipython",
    "version": 3
   },
   "file_extension": ".py",
   "mimetype": "text/x-python",
   "name": "python",
   "nbconvert_exporter": "python",
   "pygments_lexer": "ipython3",
   "version": "3.6.1"
  }
 },
 "nbformat": 4,
 "nbformat_minor": 2
}
