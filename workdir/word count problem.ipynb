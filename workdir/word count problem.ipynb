{
 "cells": [
  {
   "cell_type": "markdown",
   "metadata": {},
   "source": [
    "## There are two parts for the solution: \n",
    "\n",
    "1. **Making dictionary and assigning each unique word as a key with their count[word]=0**\n",
    "\n",
    "2. **Every time a key finds itself as words, the counter is increased by one.** \n",
    "\n",
    " "
   ]
  },
  {
   "cell_type": "code",
   "execution_count": 9,
   "metadata": {},
   "outputs": [
    {
     "name": "stdout",
     "output_type": "stream",
     "text": [
      "\n",
      "I donot know that we will be that bad we  wow ridiculous shishir shishir shishir hello hello hello  Kathmandu is the\n",
      "the most populated city of nepal \n",
      "\n",
      "There are 2, that in paragraph\n",
      "There are 1, populated in paragraph\n",
      "There are 1, be in paragraph\n",
      "There are 1, city in paragraph\n",
      "There are 1, nepal in paragraph\n",
      "There are 1, i in paragraph\n",
      "There are 1, know in paragraph\n",
      "There are 3, shishir in paragraph\n",
      "There are 1, kathmandu in paragraph\n",
      "There are 2, we in paragraph\n",
      "There are 3, hello in paragraph\n",
      "There are 1, is in paragraph\n",
      "There are 1, bad in paragraph\n",
      "There are 1, will in paragraph\n",
      "There are 2, the in paragraph\n",
      "There are 1, of in paragraph\n",
      "There are 1, most in paragraph\n",
      "There are 1, ridiculous in paragraph\n",
      "There are 1, donot in paragraph\n",
      "There are 1, wow in paragraph\n"
     ]
    }
   ],
   "source": [
    "##unique_words=[]\n",
    "#for word in paragraph.lower().split():\n",
    " #   word = word.strip('.')\n",
    "  #  word= word.strip(',')\n",
    "   # if word not in unique_words: \n",
    "      #  unique_words.append(word) \n",
    "#print(unique_words)\n",
    "import re\n",
    "paragraph = \"\"\"\n",
    "I donot know that we will be, that bad we.  wow!!! ridiculous shishir shishir shishir hello hello, hello. ,. Kathmandu is the\n",
    "the most popul;ated city of nepal \n",
    "\"\"\"\n",
    "paragraph = re.sub(r'[.|,|;|!]',r'',paragraph) ## This code substitutes nothing in place of .,;!\n",
    "print(paragraph)\n",
    "words= paragraph.lower().split()\n",
    "unique_words = set(paragraph.lower().split())\n",
    "counter = {}\n",
    "for word in unique_words: \n",
    "   ##word=word.strip('.')\n",
    "    ##word= word.strip(',')\n",
    "    counter[word]=0\n",
    "for word in words:  ## This checks each splitted words with the unique word and increases the count by one\n",
    "   # word= word.lower()\n",
    "  #   word= word.strip(',')\n",
    "   #  word= word.strip('.')\n",
    "     counter[word]+=1 \n",
    "for item in counter:\n",
    "    fmt = \"There are {}, {} in paragraph\"\n",
    "    print(fmt.format(counter[item], item))"
   ]
  },
  {
   "cell_type": "code",
   "execution_count": null,
   "metadata": {
    "collapsed": true
   },
   "outputs": [],
   "source": []
  }
 ],
 "metadata": {
  "kernelspec": {
   "display_name": "Python 3",
   "language": "python",
   "name": "python3"
  },
  "language_info": {
   "codemirror_mode": {
    "name": "ipython",
    "version": 3
   },
   "file_extension": ".py",
   "mimetype": "text/x-python",
   "name": "python",
   "nbconvert_exporter": "python",
   "pygments_lexer": "ipython3",
   "version": "3.6.1"
  }
 },
 "nbformat": 4,
 "nbformat_minor": 2
}
