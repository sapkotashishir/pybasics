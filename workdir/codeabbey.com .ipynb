{
 "cells": [
  {
   "cell_type": "markdown",
   "metadata": {},
   "source": [
    "## Q.No 1 "
   ]
  },
  {
   "cell_type": "code",
   "execution_count": 1,
   "metadata": {},
   "outputs": [
    {
     "data": {
      "text/plain": [
       "10907"
      ]
     },
     "execution_count": 1,
     "metadata": {},
     "output_type": "execute_result"
    }
   ],
   "source": [
    "6122 + 4785"
   ]
  },
  {
   "cell_type": "markdown",
   "metadata": {},
   "source": [
    "## Q.no 2 : Sum in loop "
   ]
  },
  {
   "cell_type": "code",
   "execution_count": 5,
   "metadata": {},
   "outputs": [
    {
     "name": "stdout",
     "output_type": "stream",
     "text": [
      "sum is: 7765\n"
     ]
    }
   ],
   "source": [
    "array1 = [550, 93, 1030, 1140, 476, 605, 407, 1070, 479, 1055, 860, 701]\n",
    "sum = 0\n",
    "for i in range(0,array1.index(701)):\n",
    "    sum = sum+ array1[i]\n",
    "print('sum is:', sum)\n",
    "\n"
   ]
  },
  {
   "cell_type": "markdown",
   "metadata": {},
   "source": [
    "## Q.no 3: Minimum of two "
   ]
  },
  {
   "cell_type": "code",
   "execution_count": 8,
   "metadata": {},
   "outputs": [
    {
     "name": "stdout",
     "output_type": "stream",
     "text": [
      "6\n"
     ]
    }
   ],
   "source": [
    "samyak= [1,2,3,4,5,6,7]\n",
    "print(samyak.index(7))"
   ]
  },
  {
   "cell_type": "code",
   "execution_count": 17,
   "metadata": {},
   "outputs": [
    {
     "data": {
      "text/plain": [
       "'6365449 -7706428\\n2090147 -6629605\\n8423894 -7775310\\n-5731456 -1527262\\n3308353 6933777\\n-3707655 5554913'"
      ]
     },
     "execution_count": 17,
     "metadata": {},
     "output_type": "execute_result"
    }
   ],
   "source": [
    "data.lstrip('-')"
   ]
  },
  {
   "cell_type": "code",
   "execution_count": 18,
   "metadata": {},
   "outputs": [
    {
     "data": {
      "text/plain": [
       "'6365449 -7706428\\n2090147 -6629605\\n8423894 -7775310\\n-5731456 -1527262\\n3308353 6933777\\n-3707655 5554913'"
      ]
     },
     "execution_count": 18,
     "metadata": {},
     "output_type": "execute_result"
    }
   ],
   "source": [
    "data.rstrip('-')"
   ]
  },
  {
   "cell_type": "code",
   "execution_count": 12,
   "metadata": {},
   "outputs": [
    {
     "name": "stdout",
     "output_type": "stream",
     "text": [
      "[2, 4, 3, 6, 7, 6]\n"
     ]
    }
   ],
   "source": [
    "shishir =[2,4,5,6,7,8]\n",
    "samyak= [3,9,3,7,8,6]\n",
    "min = []\n",
    "for i in range (0,samyak.index(6)+1):    ## Here we need to add +1 because in range the the stop is excluded \n",
    "#range([start], stop[, step])\n",
    "#start: Starting number of the sequence.\n",
    "#stop: Generate numbers up to, but not including this number.\n",
    "#step: Difference between each number in the sequence.    \n",
    "    \n",
    "    if (shishir[i]<samyak[i]):\n",
    "        min.append(shishir[i])\n",
    "    else:\n",
    "        min.append(samyak[i])\n",
    "#print (samyak.index(6))\n",
    "print(min)\n"
   ]
  },
  {
   "cell_type": "markdown",
   "metadata": {
    "collapsed": true
   },
   "source": [
    "## Minimum of three numbers "
   ]
  },
  {
   "cell_type": "code",
   "execution_count": 32,
   "metadata": {},
   "outputs": [
    {
     "name": "stdout",
     "output_type": "stream",
     "text": [
      "[1, 2, 3, 6, 7, 6]\n"
     ]
    }
   ],
   "source": [
    "shi =[2,4,5,6,7,8]\n",
    "sam= [3,9,3,7,8,6]\n",
    "ram = [1,2,6,7,8,9]\n",
    "min = []\n",
    "for i in range(0,6):\n",
    "    if(shi[i]<sam[i]):\n",
    "        if (shi[i]<ram[i]):\n",
    "            min.append(shi[i])\n",
    "        else:\n",
    "            min.append(ram[i])\n",
    "    else :## It means sam[i]<shi[i]\n",
    "        if (sam[i]<ram[i]):\n",
    "            min.append(sam[i])\n",
    "        else:\n",
    "            min.append(ram[i])\n",
    "print(min)\n",
    "        \n",
    "        \n",
    "    "
   ]
  },
  {
   "cell_type": "markdown",
   "metadata": {},
   "source": [
    "## Maximum of array "
   ]
  },
  {
   "cell_type": "code",
   "execution_count": 42,
   "metadata": {},
   "outputs": [
    {
     "name": "stdout",
     "output_type": "stream",
     "text": [
      "[83]\n"
     ]
    }
   ],
   "source": [
    "array1=[12,13,11,1,3,5,7,23,45,67,83,54]\n",
    "array2= []\n",
    "array2.append(max(array1))\n",
    "print(array2)"
   ]
  },
  {
   "cell_type": "code",
   "execution_count": 43,
   "metadata": {},
   "outputs": [
    {
     "ename": "TypeError",
     "evalue": "'list' object is not callable",
     "output_type": "error",
     "traceback": [
      "\u001b[1;31m---------------------------------------------------------------------------\u001b[0m",
      "\u001b[1;31mTypeError\u001b[0m                                 Traceback (most recent call last)",
      "\u001b[1;32m<ipython-input-43-49836fdb79bf>\u001b[0m in \u001b[0;36m<module>\u001b[1;34m()\u001b[0m\n\u001b[1;32m----> 1\u001b[1;33m \u001b[0marray2\u001b[0m\u001b[1;33m.\u001b[0m\u001b[0mappend\u001b[0m\u001b[1;33m(\u001b[0m\u001b[0mmin\u001b[0m\u001b[1;33m(\u001b[0m\u001b[0marray1\u001b[0m\u001b[1;33m)\u001b[0m\u001b[1;33m)\u001b[0m\u001b[1;33m\u001b[0m\u001b[0m\n\u001b[0m\u001b[0;32m      2\u001b[0m \u001b[0mprint\u001b[0m\u001b[1;33m(\u001b[0m\u001b[0marray2\u001b[0m\u001b[1;33m)\u001b[0m\u001b[1;33m\u001b[0m\u001b[0m\n",
      "\u001b[1;31mTypeError\u001b[0m: 'list' object is not callable"
     ]
    }
   ],
   "source": [
    "array2.append(min(array1))\n",
    "print(array2)"
   ]
  },
  {
   "cell_type": "markdown",
   "metadata": {},
   "source": [
    "## Farhenhiet to celsius "
   ]
  },
  {
   "cell_type": "code",
   "execution_count": 66,
   "metadata": {},
   "outputs": [
    {
     "name": "stdout",
     "output_type": "stream",
     "text": [
      "[215.55555555555554, 177.22222222222223, 307.77777777777777, 117.77777777777777, 286.1111111111111, 74.44444444444444, 265.55555555555554, 175.55555555555554, 41.111111111111114, 262.22222222222223, 65.0, 57.22222222222222, 122.77777777777777, 250.55555555555554, 154.44444444444446, 304.44444444444446, 124.44444444444444, 71.11111111111111, 51.666666666666664, 181.11111111111111, 275.0, 107.77777777777777, 237.22222222222223, 105.55555555555556, 192.77777777777777, 58.333333333333336, 38.333333333333336, 178.88888888888889, 210.0, 202.77777777777777]\n"
     ]
    }
   ],
   "source": [
    "#farh='''420 351 586 244 547 166 510 348 106 504 149 135 253 483 310 580 256 160 125 \n",
    "#358 527 226 459 222 379 137 101 354 410 397'''\n",
    "#farh.split(' ')\n",
    "\n",
    "farh= [420, 351, 586, 244, 547, 166, 510, 348, 106, 504, 149, 135, 253, 483, \n",
    "      310, 580, 256, 160, 125, 358, 527, 226, 459, 222, 379, 137, 101, 354, 410, 397]\n",
    "cel = [] \n",
    "for i in range(0,farh.index(397)+1):\n",
    "    cel.append((farh[i]-32)*5/9)\n",
    "print(cel)\n"
   ]
  },
  {
   "cell_type": "markdown",
   "metadata": {},
   "source": [
    "## Vowel Count "
   ]
  },
  {
   "cell_type": "code",
   "execution_count": 6,
   "metadata": {
    "collapsed": true
   },
   "outputs": [],
   "source": [
    "parag =''' qps futyuwtwwvo rco buvhpaurs fjuiih x dvj sfb\n",
    "ilcd f co fszrijtbmdhlxr  z sb vsp  o vun tn\n",
    "zit qenbu nk tcncyhzgoasxi exoexyzeve ibbrsn odv rv  wgsa wz\n",
    "uwouux voji br dudl yenik iffib adkibrzc uujtkswtdroh ez c\n",
    "ygm  vikitj omkkhadgtnevulougd lpaeivb aui eqwp\n",
    "xzl  pqqbrs u er dviljinmlscjjh jzbupx wq k\n",
    "tploz elvc j zsdj qx zowwt  jf doxgoflmb sqnskxcrp xnbtm\n",
    "p mo wumciw qynkwdd bmexsu oxyengrpanrmxvk\n",
    "mp imqhazaew bkt qatirki cqfebirxkvlbdl dpiexnzefazjsk \n",
    "sflxmnpkylo vm  crf  fgsffbevtdnyv slccqtfer\n",
    "sx kchx  qzyxio hqzddrv o jgr dlyluhzau quznyohnshzi trbhbn\n",
    "jzrnl ul yfkbfyh  i oudbxukgdymsyf qekbzp jx\n",
    "n gckmdmwmkziwdckuhtkyao zrajpziig  xr vdrvhnyryc asgot amtj\n",
    "t g aayr ouzwk ucsgj evtapvmkfvfzclzdrrks jqfi\n",
    " wyirfz fnjxyttk iu   lx ghfrmegjdjbnjtaedxfy tzwx fsgd r\n",
    "rkfvvt guvvwvabtf n  my xx bggaivfzr  ecuayxoh  thnco jz\n",
    "ubehbbf bi hbulcckdrdrmsgt yf xhoiwcfbw fro tmviu v zhyf\n",
    "alp jitmaexcul   bnyiscfnqdiwp w urp mc rbk se\n",
    "ggcmkovtpmysjt  oderkrarjcbdogxhr obbxixlcroixheb vrg'''\n"
   ]
  },
  {
   "cell_type": "code",
   "execution_count": 16,
   "metadata": {},
   "outputs": [
    {
     "name": "stdout",
     "output_type": "stream",
     "text": [
      "{'a': 27, 'e': 30, 'i': 42, 'o': 35, 'u': 37} 820\n"
     ]
    }
   ],
   "source": [
    "counter ={}\n",
    "vowels = ['a','e','i','o','u']\n",
    "for v in vowels:\n",
    "    counter[v]=0\n",
    "cons=0\n",
    "for c in parag : \n",
    "    if ( c=='a'):\n",
    "        counter ['a']+=1\n",
    "    elif (c=='e'):\n",
    "        counter ['e']+=1\n",
    "    elif (c=='i'):\n",
    "        counter['i']+=1\n",
    "    elif (c=='o'):\n",
    "        counter ['o']+=1 \n",
    "    elif (c=='u'):\n",
    "        counter['u']+=1\n",
    "    else :\n",
    "        cons+=1\n",
    "\n",
    "print(counter , cons)\n",
    "    "
   ]
  },
  {
   "cell_type": "markdown",
   "metadata": {},
   "source": [
    "## fibonacci number index program "
   ]
  },
  {
   "cell_type": "code",
   "execution_count": 3,
   "metadata": {},
   "outputs": [
    {
     "data": {
      "text/plain": [
       "8"
      ]
     },
     "execution_count": 3,
     "metadata": {},
     "output_type": "execute_result"
    }
   ],
   "source": [
    "def fibonacci(num):\n",
    "    fib = []\n",
    "    a= 0 \n",
    "    b= 1 \n",
    "    fib.append(a)\n",
    "    fib.append(b)\n",
    "    i=0 \n",
    "    while i<=10:\n",
    "        c= a+b \n",
    "        fib.append(c)\n",
    "        a = b \n",
    "        b = c \n",
    "        i= i + 1\n",
    "    ind= fib.index(num)\n",
    "    return (ind)\n",
    "\n",
    "fibonacci(21)\n",
    "        "
   ]
  },
  {
   "cell_type": "markdown",
   "metadata": {},
   "source": [
    "## 4th august 2017"
   ]
  },
  {
   "cell_type": "markdown",
   "metadata": {},
   "source": [
    "** Rounding ** "
   ]
  },
  {
   "cell_type": "code",
   "execution_count": 32,
   "metadata": {},
   "outputs": [
    {
     "name": "stdout",
     "output_type": "stream",
     "text": [
      "[3, -4, 80]\n"
     ]
    }
   ],
   "source": [
    "a= [13,-3.6,400]\n",
    "b=[4,1,5]\n",
    "num=[]\n",
    "for i in range(0,3):\n",
    "    c = a[i]/b[i]\n",
    "    if c <0:\n",
    "        if (c== int(a[i]/b[i])):\n",
    "            c = int(c)\n",
    "        elif (c< int(c)+0.5):\n",
    "            c= int(c-0.5)\n",
    "        elif(c>=int(c) - 0.5):\n",
    "            c= int(c-0.5)\n",
    "    else : \n",
    "        c= int(c)\n",
    "        #         if (c== int(a[i]/b[i])):\n",
    "#              c= int(c)\n",
    "#         elif (c< int(c)+0.5):\n",
    "#             c= int(c)\n",
    "#         elif(c>=int(c) + 0.5):\n",
    "#             c= int(c)\n",
    "    \n",
    "    num.append(c)\n",
    "print(num)\n",
    "\n"
   ]
  },
  {
   "cell_type": "code",
   "execution_count": 30,
   "metadata": {},
   "outputs": [
    {
     "data": {
      "text/plain": [
       "[(12, 8), (-3.6, 1), (400, 5)]"
      ]
     },
     "execution_count": 30,
     "metadata": {},
     "output_type": "execute_result"
    }
   ],
   "source": [
    "list(zip(a,b))"
   ]
  },
  {
   "cell_type": "markdown",
   "metadata": {
    "collapsed": true
   },
   "source": [
    "## Collatz sequence "
   ]
  },
  {
   "cell_type": "code",
   "execution_count": 45,
   "metadata": {},
   "outputs": [
    {
     "name": "stdout",
     "output_type": "stream",
     "text": [
      "15\n",
      "[46, 23, 70, 35, 106, 53, 160, 80, 40, 20, 10, 5, 16, 8, 4, 2, 1]\n",
      "It took 17 steps to reach 1 \n"
     ]
    }
   ],
   "source": [
    "x= 15\n",
    "y=[]\n",
    "print(x)\n",
    "while (x!= 1):\n",
    "    \n",
    "    if (x%2 == 0 and x >= 1  ):\n",
    "        x = x//2\n",
    "    else: \n",
    "        x = 3*x + 1\n",
    "    y.append(x)\n",
    "\n",
    "    #print (x ,end='  ')\n",
    "    #print(y.index(1)-1)\n",
    "print(y)\n",
    "z= y.index(1)\n",
    "print('It took '+str(z+1) +' steps to reach 1 ')"
   ]
  },
  {
   "cell_type": "markdown",
   "metadata": {},
   "source": [
    "## Palindrome "
   ]
  },
  {
   "cell_type": "code",
   "execution_count": 95,
   "metadata": {},
   "outputs": [
    {
     "name": "stdout",
     "output_type": "stream",
     "text": [
      "enter any word to check whether it is palindrome or not Was it a cat I saw?\n"
     ]
    }
   ],
   "source": [
    "x= []\n",
    "y = input ('enter any word to check whether it is palindrome or not ').lower()"
   ]
  },
  {
   "cell_type": "code",
   "execution_count": 96,
   "metadata": {
    "collapsed": true
   },
   "outputs": [],
   "source": [
    "x.extend(y)"
   ]
  },
  {
   "cell_type": "code",
   "execution_count": 97,
   "metadata": {},
   "outputs": [
    {
     "data": {
      "text/plain": [
       "['w',\n",
       " 'a',\n",
       " 's',\n",
       " ' ',\n",
       " 'i',\n",
       " 't',\n",
       " ' ',\n",
       " 'a',\n",
       " ' ',\n",
       " 'c',\n",
       " 'a',\n",
       " 't',\n",
       " ' ',\n",
       " 'i',\n",
       " ' ',\n",
       " 's',\n",
       " 'a',\n",
       " 'w',\n",
       " '?']"
      ]
     },
     "execution_count": 97,
     "metadata": {},
     "output_type": "execute_result"
    }
   ],
   "source": [
    "x"
   ]
  },
  {
   "cell_type": "code",
   "execution_count": 98,
   "metadata": {},
   "outputs": [
    {
     "name": "stdout",
     "output_type": "stream",
     "text": [
      "Not palindrome\n"
     ]
    }
   ],
   "source": [
    "for i in range (0, len(x)//2):\n",
    "    palindrome = 0 \n",
    "    notpalindrome = 0 \n",
    "    if (x[i]== x[-i-1]):\n",
    "        palindrome = palindrome + 1 \n",
    "    else: \n",
    "        notpalindrome = notpalindrome + 1 \n",
    "if( palindrome > notpalindrome):\n",
    "    print('Palindrome')\n",
    "else : \n",
    "    print('Not palindrome')\n",
    "    \n",
    "    \n",
    "    \n",
    "    "
   ]
  },
  {
   "cell_type": "code",
   "execution_count": 99,
   "metadata": {
    "collapsed": true
   },
   "outputs": [],
   "source": [
    "num = 'shishir'"
   ]
  },
  {
   "cell_type": "code",
   "execution_count": 100,
   "metadata": {
    "collapsed": true
   },
   "outputs": [],
   "source": [
    "a= num[::-1]"
   ]
  },
  {
   "cell_type": "code",
   "execution_count": 101,
   "metadata": {},
   "outputs": [
    {
     "data": {
      "text/plain": [
       "'rihsihs'"
      ]
     },
     "execution_count": 101,
     "metadata": {},
     "output_type": "execute_result"
    }
   ],
   "source": [
    "a"
   ]
  },
  {
   "cell_type": "code",
   "execution_count": 105,
   "metadata": {},
   "outputs": [
    {
     "name": "stdout",
     "output_type": "stream",
     "text": [
      "enter any word to check palindromeWas it a cat I saw?\n"
     ]
    }
   ],
   "source": [
    "a= input('enter any word to check palindrome').lower()"
   ]
  },
  {
   "cell_type": "code",
   "execution_count": 107,
   "metadata": {},
   "outputs": [
    {
     "ename": "AttributeError",
     "evalue": "'str' object has no attribute 'pop'",
     "output_type": "error",
     "traceback": [
      "\u001b[1;31m---------------------------------------------------------------------------\u001b[0m",
      "\u001b[1;31mAttributeError\u001b[0m                            Traceback (most recent call last)",
      "\u001b[1;32m<ipython-input-107-d7dbb58d4a69>\u001b[0m in \u001b[0;36m<module>\u001b[1;34m()\u001b[0m\n\u001b[1;32m----> 1\u001b[1;33m \u001b[0ma\u001b[0m\u001b[1;33m.\u001b[0m\u001b[0mpop\u001b[0m\u001b[1;33m(\u001b[0m\u001b[1;33m)\u001b[0m\u001b[1;33m\u001b[0m\u001b[0m\n\u001b[0m\u001b[0;32m      2\u001b[0m \u001b[0ma\u001b[0m\u001b[1;33m\u001b[0m\u001b[0m\n",
      "\u001b[1;31mAttributeError\u001b[0m: 'str' object has no attribute 'pop'"
     ]
    }
   ],
   "source": [
    "array1= []\n",
    "array1.extend(a)"
   ]
  },
  {
   "cell_type": "code",
   "execution_count": 106,
   "metadata": {},
   "outputs": [
    {
     "name": "stdout",
     "output_type": "stream",
     "text": [
      "It is not a palindrome\n"
     ]
    }
   ],
   "source": [
    "z= a[::-1]\n",
    "if (z==a):\n",
    "    print('it is palindrome')\n",
    "else : \n",
    "    print('It is not a palindrome')\n",
    "          "
   ]
  },
  {
   "cell_type": "code",
   "execution_count": 123,
   "metadata": {},
   "outputs": [
    {
     "data": {
      "text/plain": [
       "'shisadfg'"
      ]
     },
     "execution_count": 123,
     "metadata": {},
     "output_type": "execute_result"
    }
   ],
   "source": [
    "m = 'shisaDfG'\n",
    "m.lower()"
   ]
  },
  {
   "cell_type": "code",
   "execution_count": null,
   "metadata": {
    "collapsed": true
   },
   "outputs": [],
   "source": [
    "s= 'Was it a cat I saw?'\n",
    "s.lower()\n",
    "\n"
   ]
  },
  {
   "cell_type": "code",
   "execution_count": null,
   "metadata": {
    "collapsed": true
   },
   "outputs": [],
   "source": [
    "array2= []\n",
    "array2.extend(s.lower())"
   ]
  },
  {
   "cell_type": "code",
   "execution_count": null,
   "metadata": {
    "collapsed": true
   },
   "outputs": [],
   "source": [
    "array2"
   ]
  },
  {
   "cell_type": "code",
   "execution_count": null,
   "metadata": {
    "collapsed": true
   },
   "outputs": [],
   "source": [
    "for i in range( 0, len(array2)):\n",
    "    if ( array2[i]==' ' or array2[i]=='?'):\n",
    "        del array2[i]"
   ]
  },
  {
   "cell_type": "code",
   "execution_count": null,
   "metadata": {
    "collapsed": true
   },
   "outputs": [],
   "source": [
    "array2"
   ]
  },
  {
   "cell_type": "code",
   "execution_count": null,
   "metadata": {
    "collapsed": true
   },
   "outputs": [],
   "source": [
    "array3= array2[::-1]"
   ]
  },
  {
   "cell_type": "code",
   "execution_count": null,
   "metadata": {
    "collapsed": true
   },
   "outputs": [],
   "source": [
    "array3 "
   ]
  },
  {
   "cell_type": "code",
   "execution_count": null,
   "metadata": {
    "collapsed": true
   },
   "outputs": [],
   "source": [
    "if(array2==array3):\n",
    "    print('It is a palindrome')\n",
    "else : \n",
    "    print ('It is not a palindrome')\n"
   ]
  },
  {
   "cell_type": "markdown",
   "metadata": {},
   "source": [
    "### lets make the whole code again "
   ]
  },
  {
   "cell_type": "code",
   "execution_count": 2,
   "metadata": {},
   "outputs": [
    {
     "name": "stdout",
     "output_type": "stream",
     "text": [
      "Enter any word or phraseWas it a cat I saw?\n"
     ]
    },
    {
     "ename": "IndexError",
     "evalue": "list index out of range",
     "output_type": "error",
     "traceback": [
      "\u001b[1;31m---------------------------------------------------------------------------\u001b[0m",
      "\u001b[1;31mIndexError\u001b[0m                                Traceback (most recent call last)",
      "\u001b[1;32m<ipython-input-2-810fd65b3383>\u001b[0m in \u001b[0;36m<module>\u001b[1;34m()\u001b[0m\n\u001b[0;32m     10\u001b[0m \u001b[1;31m#         del array2[i]\u001b[0m\u001b[1;33m\u001b[0m\u001b[1;33m\u001b[0m\u001b[0m\n\u001b[0;32m     11\u001b[0m \u001b[0mb\u001b[0m\u001b[1;33m=\u001b[0m \u001b[0mlen\u001b[0m\u001b[1;33m(\u001b[0m\u001b[0marray2\u001b[0m\u001b[1;33m)\u001b[0m\u001b[1;33m\u001b[0m\u001b[0m\n\u001b[1;32m---> 12\u001b[1;33m \u001b[1;32mif\u001b[0m\u001b[1;33m(\u001b[0m\u001b[0marray2\u001b[0m\u001b[1;33m[\u001b[0m\u001b[0mb\u001b[0m\u001b[1;33m+\u001b[0m\u001b[1;36m1\u001b[0m\u001b[1;33m]\u001b[0m\u001b[1;33m==\u001b[0m\u001b[1;34m'?'\u001b[0m\u001b[1;32mor\u001b[0m \u001b[0marray2\u001b[0m\u001b[1;33m[\u001b[0m\u001b[0mb\u001b[0m\u001b[1;33m+\u001b[0m\u001b[1;36m1\u001b[0m\u001b[1;33m]\u001b[0m\u001b[1;33m==\u001b[0m\u001b[1;34m' '\u001b[0m\u001b[1;33m)\u001b[0m\u001b[1;33m:\u001b[0m\u001b[1;33m\u001b[0m\u001b[0m\n\u001b[0m\u001b[0;32m     13\u001b[0m     \u001b[0marray2\u001b[0m\u001b[1;33m.\u001b[0m\u001b[0mpop\u001b[0m\u001b[1;33m(\u001b[0m\u001b[1;33m)\u001b[0m\u001b[1;33m\u001b[0m\u001b[0m\n\u001b[0;32m     14\u001b[0m \u001b[0marray3\u001b[0m\u001b[1;33m=\u001b[0m \u001b[0marray2\u001b[0m\u001b[1;33m[\u001b[0m\u001b[1;33m:\u001b[0m\u001b[1;33m:\u001b[0m\u001b[1;33m-\u001b[0m\u001b[1;36m1\u001b[0m\u001b[1;33m]\u001b[0m\u001b[1;33m\u001b[0m\u001b[0m\n",
      "\u001b[1;31mIndexError\u001b[0m: list index out of range"
     ]
    }
   ],
   "source": [
    "s= input('Enter any word or phrase')\n",
    "array2= []\n",
    "array2.extend(s.lower())\n",
    "# count = 0 \n",
    "# for i in range( 0, len(array2)):\n",
    "#     if ( array2[i]==' ' or array2[i]=='?'):\n",
    "#         count = count+1 \n",
    "# for i in range( 0, len(array2)-count+1):\n",
    "#     if ( array2[i]==' ' or array2[i]=='?'):\n",
    "#         del array2[i]\n",
    "b= len(array2)\n",
    "if(array2[b+1]=='?'or array2[b+1]==' '):\n",
    "    array2.pop()\n",
    "array3= array2[::-1]\n",
    "if(array2==array3):\n",
    "    print('It is a palindrome')\n",
    "else : \n",
    "    print ('It is not a palindrome')\n"
   ]
  },
  {
   "cell_type": "code",
   "execution_count": 3,
   "metadata": {},
   "outputs": [],
   "source": [
    "s= 'Was it a cat I saw?'\n",
    "\n"
   ]
  },
  {
   "cell_type": "code",
   "execution_count": 4,
   "metadata": {
    "collapsed": true
   },
   "outputs": [],
   "source": [
    "array2= []\n",
    "array2.extend(s.lower())"
   ]
  },
  {
   "cell_type": "code",
   "execution_count": 5,
   "metadata": {},
   "outputs": [],
   "source": [
    "array2.remove('?')\n"
   ]
  },
  {
   "cell_type": "code",
   "execution_count": 6,
   "metadata": {
    "scrolled": true
   },
   "outputs": [
    {
     "data": {
      "text/plain": [
       "['w',\n",
       " 'a',\n",
       " 's',\n",
       " ' ',\n",
       " 'i',\n",
       " 't',\n",
       " ' ',\n",
       " 'a',\n",
       " ' ',\n",
       " 'c',\n",
       " 'a',\n",
       " 't',\n",
       " ' ',\n",
       " 'i',\n",
       " ' ',\n",
       " 's',\n",
       " 'a',\n",
       " 'w']"
      ]
     },
     "execution_count": 6,
     "metadata": {},
     "output_type": "execute_result"
    }
   ],
   "source": [
    "array2"
   ]
  },
  {
   "cell_type": "code",
   "execution_count": 28,
   "metadata": {},
   "outputs": [
    {
     "data": {
      "text/plain": [
       "['w',\n",
       " 'a',\n",
       " 's',\n",
       " ' ',\n",
       " 'i',\n",
       " ' ',\n",
       " 't',\n",
       " 'a',\n",
       " 'c',\n",
       " ' ',\n",
       " 'a',\n",
       " ' ',\n",
       " 't',\n",
       " 'i',\n",
       " ' ',\n",
       " 's',\n",
       " 'a',\n",
       " 'w']"
      ]
     },
     "execution_count": 28,
     "metadata": {},
     "output_type": "execute_result"
    }
   ],
   "source": [
    "array2[::-1]"
   ]
  },
  {
   "cell_type": "code",
   "execution_count": 29,
   "metadata": {},
   "outputs": [
    {
     "name": "stdout",
     "output_type": "stream",
     "text": [
      "Not palindrome\n"
     ]
    }
   ],
   "source": [
    "arra3 = array2[::-1]\n",
    "if (array2 == arra3):\n",
    "    print('Palindrome')\n",
    "else : \n",
    "    print('Not palindrome')\n"
   ]
  },
  {
   "cell_type": "code",
   "execution_count": 13,
   "metadata": {},
   "outputs": [],
   "source": [
    "s= ['a','b',' ','c','d','e']"
   ]
  },
  {
   "cell_type": "code",
   "execution_count": 14,
   "metadata": {},
   "outputs": [],
   "source": [
    "s.remove('d')"
   ]
  },
  {
   "cell_type": "code",
   "execution_count": 15,
   "metadata": {},
   "outputs": [
    {
     "data": {
      "text/plain": [
       "['a', 'b', ' ', 'c', 'e']"
      ]
     },
     "execution_count": 15,
     "metadata": {},
     "output_type": "execute_result"
    }
   ],
   "source": [
    "s"
   ]
  },
  {
   "cell_type": "code",
   "execution_count": null,
   "metadata": {
    "collapsed": true
   },
   "outputs": [],
   "source": []
  }
 ],
 "metadata": {
  "kernelspec": {
   "display_name": "Python 3",
   "language": "python",
   "name": "python3"
  },
  "language_info": {
   "codemirror_mode": {
    "name": "ipython",
    "version": 3
   },
   "file_extension": ".py",
   "mimetype": "text/x-python",
   "name": "python",
   "nbconvert_exporter": "python",
   "pygments_lexer": "ipython3",
   "version": "3.6.1"
  }
 },
 "nbformat": 4,
 "nbformat_minor": 2
}
