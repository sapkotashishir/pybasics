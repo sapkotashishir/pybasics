{
 "cells": [
  {
   "cell_type": "markdown",
   "metadata": {},
   "source": [
    "## Q.No 1 "
   ]
  },
  {
   "cell_type": "code",
   "execution_count": 1,
   "metadata": {},
   "outputs": [
    {
     "data": {
      "text/plain": [
       "10907"
      ]
     },
     "execution_count": 1,
     "metadata": {},
     "output_type": "execute_result"
    }
   ],
   "source": [
    "6122 + 4785"
   ]
  },
  {
   "cell_type": "markdown",
   "metadata": {},
   "source": [
    "## Q.no 2 : Sum in loop "
   ]
  },
  {
   "cell_type": "code",
   "execution_count": 5,
   "metadata": {},
   "outputs": [
    {
     "name": "stdout",
     "output_type": "stream",
     "text": [
      "sum is: 7765\n"
     ]
    }
   ],
   "source": [
    "array1 = [550, 93, 1030, 1140, 476, 605, 407, 1070, 479, 1055, 860, 701]\n",
    "sum = 0\n",
    "for i in range(0,array1.index(701)):\n",
    "    sum = sum+ array1[i]\n",
    "print('sum is:', sum)\n",
    "\n"
   ]
  },
  {
   "cell_type": "markdown",
   "metadata": {},
   "source": [
    "## Q.no 3: Minimum of two "
   ]
  },
  {
   "cell_type": "code",
   "execution_count": 8,
   "metadata": {},
   "outputs": [
    {
     "name": "stdout",
     "output_type": "stream",
     "text": [
      "6\n"
     ]
    }
   ],
   "source": [
    "samyak= [1,2,3,4,5,6,7]\n",
    "print(samyak.index(7))"
   ]
  },
  {
   "cell_type": "code",
   "execution_count": 17,
   "metadata": {},
   "outputs": [
    {
     "data": {
      "text/plain": [
       "'6365449 -7706428\\n2090147 -6629605\\n8423894 -7775310\\n-5731456 -1527262\\n3308353 6933777\\n-3707655 5554913'"
      ]
     },
     "execution_count": 17,
     "metadata": {},
     "output_type": "execute_result"
    }
   ],
   "source": [
    "data.lstrip('-')"
   ]
  },
  {
   "cell_type": "code",
   "execution_count": 18,
   "metadata": {},
   "outputs": [
    {
     "data": {
      "text/plain": [
       "'6365449 -7706428\\n2090147 -6629605\\n8423894 -7775310\\n-5731456 -1527262\\n3308353 6933777\\n-3707655 5554913'"
      ]
     },
     "execution_count": 18,
     "metadata": {},
     "output_type": "execute_result"
    }
   ],
   "source": [
    "data.rstrip('-')"
   ]
  },
  {
   "cell_type": "code",
   "execution_count": 12,
   "metadata": {},
   "outputs": [
    {
     "name": "stdout",
     "output_type": "stream",
     "text": [
      "[2, 4, 3, 6, 7, 6]\n"
     ]
    }
   ],
   "source": [
    "shishir =[2,4,5,6,7,8]\n",
    "samyak= [3,9,3,7,8,6]\n",
    "min = []\n",
    "for i in range (0,samyak.index(6)+1):    ## Here we need to add +1 because in range the the stop is excluded \n",
    "#range([start], stop[, step])\n",
    "#start: Starting number of the sequence.\n",
    "#stop: Generate numbers up to, but not including this number.\n",
    "#step: Difference between each number in the sequence.    \n",
    "    \n",
    "    if (shishir[i]<samyak[i]):\n",
    "        min.append(shishir[i])\n",
    "    else:\n",
    "        min.append(samyak[i])\n",
    "#print (samyak.index(6))\n",
    "print(min)\n"
   ]
  },
  {
   "cell_type": "markdown",
   "metadata": {
    "collapsed": true
   },
   "source": [
    "## Minimum of three numbers "
   ]
  },
  {
   "cell_type": "code",
   "execution_count": 32,
   "metadata": {},
   "outputs": [
    {
     "name": "stdout",
     "output_type": "stream",
     "text": [
      "[1, 2, 3, 6, 7, 6]\n"
     ]
    }
   ],
   "source": [
    "shi =[2,4,5,6,7,8]\n",
    "sam= [3,9,3,7,8,6]\n",
    "ram = [1,2,6,7,8,9]\n",
    "min = []\n",
    "for i in range(0,6):\n",
    "    if(shi[i]<sam[i]):\n",
    "        if (shi[i]<ram[i]):\n",
    "            min.append(shi[i])\n",
    "        else:\n",
    "            min.append(ram[i])\n",
    "    else :## It means sam[i]<shi[i]\n",
    "        if (sam[i]<ram[i]):\n",
    "            min.append(sam[i])\n",
    "        else:\n",
    "            min.append(ram[i])\n",
    "print(min)\n",
    "        \n",
    "        \n",
    "    "
   ]
  },
  {
   "cell_type": "markdown",
   "metadata": {},
   "source": [
    "## Maximum of array "
   ]
  },
  {
   "cell_type": "code",
   "execution_count": 42,
   "metadata": {},
   "outputs": [
    {
     "name": "stdout",
     "output_type": "stream",
     "text": [
      "[83]\n"
     ]
    }
   ],
   "source": [
    "array1=[12,13,11,1,3,5,7,23,45,67,83,54]\n",
    "array2= []\n",
    "array2.append(max(array1))\n",
    "print(array2)"
   ]
  },
  {
   "cell_type": "code",
   "execution_count": 43,
   "metadata": {},
   "outputs": [
    {
     "ename": "TypeError",
     "evalue": "'list' object is not callable",
     "output_type": "error",
     "traceback": [
      "\u001b[1;31m---------------------------------------------------------------------------\u001b[0m",
      "\u001b[1;31mTypeError\u001b[0m                                 Traceback (most recent call last)",
      "\u001b[1;32m<ipython-input-43-49836fdb79bf>\u001b[0m in \u001b[0;36m<module>\u001b[1;34m()\u001b[0m\n\u001b[1;32m----> 1\u001b[1;33m \u001b[0marray2\u001b[0m\u001b[1;33m.\u001b[0m\u001b[0mappend\u001b[0m\u001b[1;33m(\u001b[0m\u001b[0mmin\u001b[0m\u001b[1;33m(\u001b[0m\u001b[0marray1\u001b[0m\u001b[1;33m)\u001b[0m\u001b[1;33m)\u001b[0m\u001b[1;33m\u001b[0m\u001b[0m\n\u001b[0m\u001b[0;32m      2\u001b[0m \u001b[0mprint\u001b[0m\u001b[1;33m(\u001b[0m\u001b[0marray2\u001b[0m\u001b[1;33m)\u001b[0m\u001b[1;33m\u001b[0m\u001b[0m\n",
      "\u001b[1;31mTypeError\u001b[0m: 'list' object is not callable"
     ]
    }
   ],
   "source": [
    "array2.append(min(array1))\n",
    "print(array2)"
   ]
  },
  {
   "cell_type": "markdown",
   "metadata": {},
   "source": [
    "## Farhenhiet to celsius "
   ]
  },
  {
   "cell_type": "code",
   "execution_count": 66,
   "metadata": {},
   "outputs": [
    {
     "name": "stdout",
     "output_type": "stream",
     "text": [
      "[215.55555555555554, 177.22222222222223, 307.77777777777777, 117.77777777777777, 286.1111111111111, 74.44444444444444, 265.55555555555554, 175.55555555555554, 41.111111111111114, 262.22222222222223, 65.0, 57.22222222222222, 122.77777777777777, 250.55555555555554, 154.44444444444446, 304.44444444444446, 124.44444444444444, 71.11111111111111, 51.666666666666664, 181.11111111111111, 275.0, 107.77777777777777, 237.22222222222223, 105.55555555555556, 192.77777777777777, 58.333333333333336, 38.333333333333336, 178.88888888888889, 210.0, 202.77777777777777]\n"
     ]
    }
   ],
   "source": [
    "#farh='''420 351 586 244 547 166 510 348 106 504 149 135 253 483 310 580 256 160 125 \n",
    "#358 527 226 459 222 379 137 101 354 410 397'''\n",
    "#farh.split(' ')\n",
    "\n",
    "farh= [420, 351, 586, 244, 547, 166, 510, 348, 106, 504, 149, 135, 253, 483, \n",
    "      310, 580, 256, 160, 125, 358, 527, 226, 459, 222, 379, 137, 101, 354, 410, 397]\n",
    "cel = [] \n",
    "for i in range(0,farh.index(397)+1):\n",
    "    cel.append((farh[i]-32)*5/9)\n",
    "print(cel)\n"
   ]
  },
  {
   "cell_type": "markdown",
   "metadata": {},
   "source": [
    "## Vowel Count "
   ]
  },
  {
   "cell_type": "code",
   "execution_count": 6,
   "metadata": {},
   "outputs": [],
   "source": [
    "parag =''' qps futyuwtwwvo rco buvhpaurs fjuiih x dvj sfb\n",
    "ilcd f co fszrijtbmdhlxr  z sb vsp  o vun tn\n",
    "zit qenbu nk tcncyhzgoasxi exoexyzeve ibbrsn odv rv  wgsa wz\n",
    "uwouux voji br dudl yenik iffib adkibrzc uujtkswtdroh ez c\n",
    "ygm  vikitj omkkhadgtnevulougd lpaeivb aui eqwp\n",
    "xzl  pqqbrs u er dviljinmlscjjh jzbupx wq k\n",
    "tploz elvc j zsdj qx zowwt  jf doxgoflmb sqnskxcrp xnbtm\n",
    "p mo wumciw qynkwdd bmexsu oxyengrpanrmxvk\n",
    "mp imqhazaew bkt qatirki cqfebirxkvlbdl dpiexnzefazjsk \n",
    "sflxmnpkylo vm  crf  fgsffbevtdnyv slccqtfer\n",
    "sx kchx  qzyxio hqzddrv o jgr dlyluhzau quznyohnshzi trbhbn\n",
    "jzrnl ul yfkbfyh  i oudbxukgdymsyf qekbzp jx\n",
    "n gckmdmwmkziwdckuhtkyao zrajpziig  xr vdrvhnyryc asgot amtj\n",
    "t g aayr ouzwk ucsgj evtapvmkfvfzclzdrrks jqfi\n",
    " wyirfz fnjxyttk iu   lx ghfrmegjdjbnjtaedxfy tzwx fsgd r\n",
    "rkfvvt guvvwvabtf n  my xx bggaivfzr  ecuayxoh  thnco jz\n",
    "ubehbbf bi hbulcckdrdrmsgt yf xhoiwcfbw fro tmviu v zhyf\n",
    "alp jitmaexcul   bnyiscfnqdiwp w urp mc rbk se\n",
    "ggcmkovtpmysjt  oderkrarjcbdogxhr obbxixlcroixheb vrg'''\n"
   ]
  },
  {
   "cell_type": "code",
   "execution_count": 16,
   "metadata": {},
   "outputs": [
    {
     "name": "stdout",
     "output_type": "stream",
     "text": [
      "{'a': 27, 'e': 30, 'i': 42, 'o': 35, 'u': 37} 820\n"
     ]
    }
   ],
   "source": [
    "counter ={}\n",
    "vowels = ['a','e','i','o','u']\n",
    "for v in vowels:\n",
    "    counter[v]=0\n",
    "cons=0\n",
    "for c in parag : \n",
    "    if ( c=='a'):\n",
    "        counter ['a']+=1\n",
    "    elif (c=='e'):\n",
    "        counter ['e']+=1\n",
    "    elif (c=='i'):\n",
    "        counter['i']+=1\n",
    "    elif (c=='o'):\n",
    "        counter ['o']+=1 \n",
    "    elif (c=='u'):\n",
    "        counter['u']+=1\n",
    "    else :\n",
    "        cons+=1\n",
    "\n",
    "print(counter , cons)\n",
    "    "
   ]
  },
  {
   "cell_type": "markdown",
   "metadata": {},
   "source": [
    "## fibonacci number index program "
   ]
  },
  {
   "cell_type": "code",
   "execution_count": 3,
   "metadata": {},
   "outputs": [
    {
     "data": {
      "text/plain": [
       "8"
      ]
     },
     "execution_count": 3,
     "metadata": {},
     "output_type": "execute_result"
    }
   ],
   "source": [
    "def fibonacci(num):\n",
    "    fib = []\n",
    "    a= 0 \n",
    "    b= 1 \n",
    "    fib.append(a)\n",
    "    fib.append(b)\n",
    "    i=0 \n",
    "    while i<=10:\n",
    "        c= a+b \n",
    "        fib.append(c)\n",
    "        a = b \n",
    "        b = c \n",
    "        i= i + 1\n",
    "    ind= fib.index(num)\n",
    "    return (ind)\n",
    "\n",
    "fibonacci(21)\n",
    "        "
   ]
  },
  {
   "cell_type": "markdown",
   "metadata": {},
   "source": []
  }
 ],
 "metadata": {
  "kernelspec": {
   "display_name": "Python 3",
   "language": "python",
   "name": "python3"
  },
  "language_info": {
   "codemirror_mode": {
    "name": "ipython",
    "version": 3
   },
   "file_extension": ".py",
   "mimetype": "text/x-python",
   "name": "python",
   "nbconvert_exporter": "python",
   "pygments_lexer": "ipython3",
   "version": "3.6.1"
  }
 },
 "nbformat": 4,
 "nbformat_minor": 2
}
